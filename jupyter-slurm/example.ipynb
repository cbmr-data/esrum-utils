{
 "cells": [
  {
   "cell_type": "markdown",
   "id": "c4978f33",
   "metadata": {},
   "source": [
    "# Submitting to Slurm with the `jupyter_slurm` module"
   ]
  },
  {
   "cell_type": "code",
   "execution_count": null,
   "id": "1851120b",
   "metadata": {},
   "outputs": [],
   "source": [
    "# If not using the recommended installation\n",
    "import sys\n",
    "\n",
    "sys.path.append(\"/projects/cbmr_shared/apps/dap/jupyter_slurm/src\")"
   ]
  },
  {
   "cell_type": "code",
   "execution_count": null,
   "id": "6b975874",
   "metadata": {},
   "outputs": [],
   "source": [
    "import jupyter_slurm as jp\n",
    "\n",
    "input_sam = \"my-data.sam\"\n",
    "input_bam = \"my-data.markdup.bam\"\n",
    "\n",
    "jobid = jp.sbatch(\n",
    "    [\n",
    "        [\"samtools\", \"markdup\", \"my-data.sam\", \"--output\", \"my-data.markdup.bam\"],\n",
    "        [\"samtools\", \"index\", \"my-data.markdup.bam\"],\n",
    "    ],\n",
    "    modules=[\"samtools\"],\n",
    ")\n",
    "print(\"Started job with ID\", jobid)"
   ]
  },
  {
   "cell_type": "code",
   "execution_count": null,
   "id": "e58b4d65",
   "metadata": {
    "scrolled": true
   },
   "outputs": [],
   "source": [
    "import jupyter_slurm as jp\n",
    "\n",
    "input_sam = \"my-data.sam\"\n",
    "input_bam = \"my-data.markdup.bam\"\n",
    "\n",
    "result = jp.srun(\n",
    "    [\"samtools\", \"idxstats\", \"my-data.markdup.bam\"],\n",
    "    modules=[\"samtools\"],\n",
    "    capture=True,\n",
    ")\n",
    "print((\"Failed\" if result else \"Succeeded\"), \" with return code\", result.returncode)\n",
    "print(\"  STDOUT =\", result.stdout)\n",
    "print(\"  STDERR =\", result.stderr)"
   ]
  }
 ],
 "metadata": {
  "kernelspec": {
   "display_name": "Python 3 (ipykernel)",
   "language": "python",
   "name": "python3"
  },
  "language_info": {
   "codemirror_mode": {
    "name": "ipython",
    "version": 3
   },
   "file_extension": ".py",
   "mimetype": "text/x-python",
   "name": "python",
   "nbconvert_exporter": "python",
   "pygments_lexer": "ipython3",
   "version": "3.11.3"
  }
 },
 "nbformat": 4,
 "nbformat_minor": 5
}
